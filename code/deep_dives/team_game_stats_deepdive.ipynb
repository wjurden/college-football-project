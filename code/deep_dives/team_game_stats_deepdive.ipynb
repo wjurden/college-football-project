{
 "cells": [
  {
   "cell_type": "markdown",
   "metadata": {},
   "source": [
    "# Team Game Stats Deep Dive"
   ]
  },
  {
   "cell_type": "markdown",
   "metadata": {},
   "source": [
    "## Importing and Describing Data"
   ]
  },
  {
   "cell_type": "code",
   "execution_count": null,
   "metadata": {},
   "outputs": [],
   "source": [
    "# Importing base packages\n",
    "import os\n",
    "import pandas as pd\n",
    "import matplotlib.pyplot as plt\n",
    "import seaborn as sns\n",
    "\n",
    "#===================\n",
    "# PCA packages for Feature Reduction\n",
    "#===================\n",
    "from sklearn.decomposition import PCA as pca\n",
    "from sklearn import preprocessing\n",
    "\n",
    "#===================\n",
    "# Logistic Regression Model - to predit wins/loss\n",
    "#===================\n",
    "import statsmodels.formula.api as smf\n",
    "\n",
    "#===================\n",
    "# Linear Regression Packages (to predict points scored)\n",
    "#===================\n",
    "\n",
    "#For QQ Plot\n",
    "import scipy.stats as sts\n",
    "\n",
    "#Correlation p-values\n",
    "from scipy.stats.stats import pearsonr\n",
    "\n",
    "#Regression output\n",
    "from sklearn.linear_model import LinearRegression\n",
    "\n",
    "#===================\n",
    "# Decision Tree Packages (to predict win/loss)\n",
    "#===================\n",
    "\n",
    "from sklearn import tree\n",
    "from sklearn import metrics\n"
   ]
  },
  {
   "cell_type": "code",
   "execution_count": null,
   "metadata": {},
   "outputs": [],
   "source": [
    "\n",
    "# Reading in data\n",
    "os.chdir('/Users/wesjurden/Documents/GitHub/Personal/college-football-project/data/clean')\n",
    "\n",
    "df = pd.read_csv('team_game_stats_data_2022_clean.csv')\n",
    "df.info()"
   ]
  },
  {
   "cell_type": "code",
   "execution_count": null,
   "metadata": {},
   "outputs": [],
   "source": []
  },
  {
   "cell_type": "code",
   "execution_count": null,
   "metadata": {},
   "outputs": [],
   "source": []
  },
  {
   "cell_type": "code",
   "execution_count": null,
   "metadata": {},
   "outputs": [],
   "source": []
  }
 ],
 "metadata": {
  "kernelspec": {
   "display_name": "Python 3.8.9 64-bit",
   "language": "python",
   "name": "python3"
  },
  "language_info": {
   "codemirror_mode": {
    "name": "ipython",
    "version": 3
   },
   "file_extension": ".py",
   "mimetype": "text/x-python",
   "name": "python",
   "nbconvert_exporter": "python",
   "pygments_lexer": "ipython3",
   "version": "3.8.9"
  },
  "orig_nbformat": 4,
  "vscode": {
   "interpreter": {
    "hash": "31f2aee4e71d21fbe5cf8b01ff0e069b9275f58929596ceb00d14d90e3e16cd6"
   }
  }
 },
 "nbformat": 4,
 "nbformat_minor": 2
}
