{
 "cells": [
  {
   "cell_type": "markdown",
   "metadata": {},
   "source": [
    "# Eleven Warriors Sentiment Analysis"
   ]
  },
  {
   "cell_type": "code",
   "execution_count": 104,
   "metadata": {},
   "outputs": [],
   "source": [
    "import pandas as pd\n",
    "import matplotlib.pyplot as plt\n",
    "import os\n",
    "\n",
    "import nltk\n",
    "#nltk.download('stopwords')\n",
    "from nltk import word_tokenize, sent_tokenize\n",
    "from nltk.corpus import stopwords\n",
    "from nltk.stem import LancasterStemmer, WordNetLemmatizer, PorterStemmer\n",
    "from sklearn.feature_extraction.text import CountVectorizer\n",
    "import re\n",
    "import random\n",
    "\n",
    "# Import libraries\n",
    "import numpy as np \n",
    "import seaborn as sns\n",
    "\n",
    "from sklearn.decomposition import LatentDirichletAllocation\n",
    "from sklearn.feature_extraction.text import TfidfVectorizer\n",
    "from sklearn.decomposition import NMF\n",
    "\n",
    "from sklearn.model_selection import train_test_split\n",
    "from sklearn.ensemble import RandomForestClassifier\n",
    "from sklearn.metrics import classification_report, confusion_matrix, accuracy_score, plot_confusion_matrix, ConfusionMatrixDisplay"
   ]
  },
  {
   "cell_type": "code",
   "execution_count": 6,
   "metadata": {},
   "outputs": [
    {
     "data": {
      "text/plain": [
       "Index(['title', 'description', 'date'], dtype='object')"
      ]
     },
     "execution_count": 6,
     "metadata": {},
     "output_type": "execute_result"
    }
   ],
   "source": [
    "os.chdir('/Users/wesjurden/Documents/GitHub/Personal/college-football-project/data/clean')\n",
    "\n",
    "df = pd.read_csv('clean_eleven_warriors_articles.csv')\n",
    "df.columns"
   ]
  },
  {
   "cell_type": "code",
   "execution_count": 7,
   "metadata": {},
   "outputs": [
    {
     "data": {
      "text/plain": [
       "\"Jayden Bonsu has experience at all three safety positions and the speed, anticipation and size to eventually thrive in Jim Knowles' three-safety defense at Ohio State.\""
      ]
     },
     "execution_count": 7,
     "metadata": {},
     "output_type": "execute_result"
    }
   ],
   "source": [
    "# Look at a value\n",
    "df['description'][3]"
   ]
  },
  {
   "cell_type": "code",
   "execution_count": 8,
   "metadata": {},
   "outputs": [
    {
     "data": {
      "text/plain": [
       "\"jayden bonsu has experience at all three safety positions and the speed, anticipation and size to eventually thrive in jim knowles' three-safety defense at ohio state.\""
      ]
     },
     "execution_count": 8,
     "metadata": {},
     "output_type": "execute_result"
    }
   ],
   "source": [
    "# Convert to lower \n",
    "df['description'] = df['description'].apply(lambda x: \" \".join(x.lower() for x in x.split()))\n",
    "\n",
    "# Confirm changes\n",
    "df['description'][3]"
   ]
  },
  {
   "cell_type": "code",
   "execution_count": 15,
   "metadata": {},
   "outputs": [],
   "source": [
    "# Create function to remove punctuation\n",
    "def remove_punctuation(string):\n",
    "    pattern = r'[^\\w\\s]'\n",
    "    cleaned_string = re.sub(pattern, '', string)\n",
    "    return cleaned_string"
   ]
  },
  {
   "cell_type": "code",
   "execution_count": 16,
   "metadata": {},
   "outputs": [
    {
     "data": {
      "text/plain": [
       "'jayden bonsu experience three safety positions speed anticipation size eventually thrive jim knowles threesafety defense ohio state'"
      ]
     },
     "execution_count": 16,
     "metadata": {},
     "output_type": "execute_result"
    }
   ],
   "source": [
    "# Apply remove_punctuation function to the description column\n",
    "df['description'] = df['description'].apply(lambda x: remove_punctuation(x))\n",
    "\n",
    "# Confrim changes\n",
    "df['description'][3]"
   ]
  },
  {
   "cell_type": "code",
   "execution_count": 17,
   "metadata": {},
   "outputs": [
    {
     "data": {
      "text/plain": [
       "'jayden bonsu experience three safety positions speed anticipation size eventually thrive jim knowles threesafety defense ohio state'"
      ]
     },
     "execution_count": 17,
     "metadata": {},
     "output_type": "execute_result"
    }
   ],
   "source": [
    "## REMOVE STOP WORDS\n",
    "\n",
    "# Choose language\n",
    "stop = stopwords.words('english')\n",
    "\n",
    "# Remove stop words\n",
    "df['description'] = df['description'].apply(lambda x: \" \".join(x for x in x.split() if x not in stop))\n",
    "\n",
    "df['description'][3]"
   ]
  },
  {
   "cell_type": "code",
   "execution_count": 32,
   "metadata": {},
   "outputs": [
    {
     "data": {
      "text/plain": [
       "'jayden bonsu experi three safeti posit speed anticip size eventu thrive jim knowl threesafeti defen'"
      ]
     },
     "execution_count": 32,
     "metadata": {},
     "output_type": "execute_result"
    }
   ],
   "source": [
    "# Remove common phrases\n",
    "\n",
    "phrases = ['ohio', 'state', 'buckeye', 'buckeyes', 'football', 'team', 'game', 'season']\n",
    "\n",
    "df['description'] = df['description'].apply(lambda x: \" \".join(x for x in x.split() if x not in phrases)) \n",
    "\n",
    "df['description'][3]"
   ]
  },
  {
   "cell_type": "code",
   "execution_count": 33,
   "metadata": {},
   "outputs": [
    {
     "data": {
      "text/plain": [
       "'jayden bonsu experi three safeti posit speed anticip size eventu thrive jim knowl threesafeti defen'"
      ]
     },
     "execution_count": 33,
     "metadata": {},
     "output_type": "execute_result"
    }
   ],
   "source": [
    "# Stem Words\n",
    "\n",
    "# Initalize PorterStemmer\n",
    "porstem = PorterStemmer()\n",
    "\n",
    "# Stem Words\n",
    "df['description'] = df['description'].apply(lambda x: \" \".join([porstem.stem(word) for word in x.split()]))\n",
    "\n",
    "df['description'][3]"
   ]
  },
  {
   "cell_type": "code",
   "execution_count": 34,
   "metadata": {},
   "outputs": [
    {
     "name": "stdout",
     "output_type": "stream",
     "text": [
      "['doorstep', 'cleveland', '387', 'mcquaid', 'simpl', 'bye', 'hourandahalf', 'lot', 'hospit', 'shi', 'arbor', 'event', 'longsnap', 'dispel', 'bednarik', 'signal', 'split', 'rich', 'kent', 'habit', 'everyth', 'henri', 'rhythm', 'homecom', 'footstep', 'rotari', 'parker', 'prospect', 'facil', 'wideout', 'lexington', 'syracu', 'super', '11w', 'broadcast', 'week', 'falcon', '140', 'enabl', 'video', 'embarrass', 'raekwon', 'wru', 'dan', 'accord', 'tomfooleri', 'throw', 'readytoplay', 'minim', 'dive']\n"
     ]
    }
   ],
   "source": [
    "# Create Term by Document Matrix\n",
    "\n",
    "from sklearn.feature_extraction.text import CountVectorizer\n",
    "\n",
    "# Initalize Count Vectorizer\n",
    "vectorizer = CountVectorizer()\n",
    "\n",
    "# Create TBD\n",
    "tokens_data = pd.DataFrame(vectorizer.fit_transform(df['description']).toarray(), columns=vectorizer.get_feature_names_out())\n",
    "\n",
    "# Print list of 50 random terms\n",
    "print(random.sample(tokens_data.columns.tolist(),50))"
   ]
  },
  {
   "cell_type": "code",
   "execution_count": 35,
   "metadata": {},
   "outputs": [
    {
     "data": {
      "text/plain": [
       "day       328\n",
       "defen     262\n",
       "play      258\n",
       "ryan      247\n",
       "year      214\n",
       "nfl       209\n",
       "offen     199\n",
       "player    199\n",
       "say       186\n",
       "cj        183\n",
       "dtype: int64"
      ]
     },
     "execution_count": 35,
     "metadata": {},
     "output_type": "execute_result"
    }
   ],
   "source": [
    "# View top 10 terms\n",
    "sort_text = tokens_data.sum()\n",
    "sort_text.sort_values(ascending = False).head(10)"
   ]
  },
  {
   "cell_type": "markdown",
   "metadata": {},
   "source": [
    "## Sentiment Analysis"
   ]
  },
  {
   "cell_type": "code",
   "execution_count": 40,
   "metadata": {},
   "outputs": [],
   "source": [
    "# Need to first classify the articles as either positive, negative, or neutral\n",
    "# Need to use R for bing or nrc\n",
    "# Or pip3 install afinn\n",
    "from afinn import Afinn"
   ]
  },
  {
   "cell_type": "code",
   "execution_count": 45,
   "metadata": {},
   "outputs": [
    {
     "data": {
      "text/html": [
       "<div>\n",
       "<style scoped>\n",
       "    .dataframe tbody tr th:only-of-type {\n",
       "        vertical-align: middle;\n",
       "    }\n",
       "\n",
       "    .dataframe tbody tr th {\n",
       "        vertical-align: top;\n",
       "    }\n",
       "\n",
       "    .dataframe thead th {\n",
       "        text-align: right;\n",
       "    }\n",
       "</style>\n",
       "<table border=\"1\" class=\"dataframe\">\n",
       "  <thead>\n",
       "    <tr style=\"text-align: right;\">\n",
       "      <th></th>\n",
       "      <th>title</th>\n",
       "      <th>description</th>\n",
       "      <th>date</th>\n",
       "      <th>score</th>\n",
       "      <th>sentiment</th>\n",
       "    </tr>\n",
       "  </thead>\n",
       "  <tbody>\n",
       "    <tr>\n",
       "      <th>1881</th>\n",
       "      <td>NORWELL JOINING COMMANDERS</td>\n",
       "      <td>former offen lineman andrew norwel sign washin...</td>\n",
       "      <td>2022-03-17</td>\n",
       "      <td>0.0</td>\n",
       "      <td>neutral</td>\n",
       "    </tr>\n",
       "    <tr>\n",
       "      <th>1259</th>\n",
       "      <td>FIVE THINGS TO KNOW ABOUT WISCONSIN</td>\n",
       "      <td>wisconsin possess domin defen one big ten best...</td>\n",
       "      <td>2022-09-19</td>\n",
       "      <td>4.0</td>\n",
       "      <td>positive</td>\n",
       "    </tr>\n",
       "    <tr>\n",
       "      <th>1574</th>\n",
       "      <td>STROUD, JSN, HENDERSON, BURKE CASH IN</td>\n",
       "      <td>cj stroud jaxon smithnjigba treveyon henderson...</td>\n",
       "      <td>2022-07-17</td>\n",
       "      <td>0.0</td>\n",
       "      <td>neutral</td>\n",
       "    </tr>\n",
       "    <tr>\n",
       "      <th>543</th>\n",
       "      <td>PEACH BOWL / CFP TRAILER</td>\n",
       "      <td>need opportun time shock world</td>\n",
       "      <td>2022-12-29</td>\n",
       "      <td>-2.0</td>\n",
       "      <td>negative</td>\n",
       "    </tr>\n",
       "    <tr>\n",
       "      <th>575</th>\n",
       "      <td>MR. BRIGHTSIDE</td>\n",
       "      <td>christma push neg concern side one day</td>\n",
       "      <td>2022-12-25</td>\n",
       "      <td>0.0</td>\n",
       "      <td>neutral</td>\n",
       "    </tr>\n",
       "  </tbody>\n",
       "</table>\n",
       "</div>"
      ],
      "text/plain": [
       "                                      title  \\\n",
       "1881             NORWELL JOINING COMMANDERS   \n",
       "1259    FIVE THINGS TO KNOW ABOUT WISCONSIN   \n",
       "1574  STROUD, JSN, HENDERSON, BURKE CASH IN   \n",
       "543                PEACH BOWL / CFP TRAILER   \n",
       "575                          MR. BRIGHTSIDE   \n",
       "\n",
       "                                            description        date  score  \\\n",
       "1881  former offen lineman andrew norwel sign washin...  2022-03-17    0.0   \n",
       "1259  wisconsin possess domin defen one big ten best...  2022-09-19    4.0   \n",
       "1574  cj stroud jaxon smithnjigba treveyon henderson...  2022-07-17    0.0   \n",
       "543                      need opportun time shock world  2022-12-29   -2.0   \n",
       "575              christma push neg concern side one day  2022-12-25    0.0   \n",
       "\n",
       "     sentiment  \n",
       "1881   neutral  \n",
       "1259  positive  \n",
       "1574   neutral  \n",
       "543   negative  \n",
       "575    neutral  "
      ]
     },
     "execution_count": 45,
     "metadata": {},
     "output_type": "execute_result"
    }
   ],
   "source": [
    "#instantiate afinn\n",
    "afn = Afinn()\n",
    "          \n",
    "# compute scores (polarity) and labels\n",
    "scores = [afn.score(description) for description in df['description']]\n",
    "sentiment = ['positive' if score > 0\n",
    "                          else 'negative' if score < 0\n",
    "                              else 'neutral'\n",
    "                                  for score in scores]\n",
    "     \n",
    "# dataframe creation\n",
    "df['score'] = scores\n",
    "df['sentiment'] = sentiment\n",
    "df.sample(5)"
   ]
  },
  {
   "cell_type": "code",
   "execution_count": 61,
   "metadata": {},
   "outputs": [
    {
     "data": {
      "text/html": [
       "<div>\n",
       "<style scoped>\n",
       "    .dataframe tbody tr th:only-of-type {\n",
       "        vertical-align: middle;\n",
       "    }\n",
       "\n",
       "    .dataframe tbody tr th {\n",
       "        vertical-align: top;\n",
       "    }\n",
       "\n",
       "    .dataframe thead th {\n",
       "        text-align: right;\n",
       "    }\n",
       "</style>\n",
       "<table border=\"1\" class=\"dataframe\">\n",
       "  <thead>\n",
       "    <tr style=\"text-align: right;\">\n",
       "      <th></th>\n",
       "      <th>title</th>\n",
       "      <th>description</th>\n",
       "      <th>date</th>\n",
       "      <th>score</th>\n",
       "      <th>sentiment</th>\n",
       "    </tr>\n",
       "  </thead>\n",
       "  <tbody>\n",
       "    <tr>\n",
       "      <th>1077</th>\n",
       "      <td>FIVE THINGS TO KNOW ABOUT IOWA</td>\n",
       "      <td>five thing know iowa worst offen fb worst star...</td>\n",
       "      <td>2022-10-17</td>\n",
       "      <td>-8.0</td>\n",
       "      <td>negative</td>\n",
       "    </tr>\n",
       "    <tr>\n",
       "      <th>789</th>\n",
       "      <td>DAY TALKS MICHIGAN, HARBAUGH, CORUM</td>\n",
       "      <td>ryan day discuss threat michigan pose hardship...</td>\n",
       "      <td>2022-11-22</td>\n",
       "      <td>-7.0</td>\n",
       "      <td>negative</td>\n",
       "    </tr>\n",
       "    <tr>\n",
       "      <th>727</th>\n",
       "      <td>PLAYOFF HOPES STILL ALIVE</td>\n",
       "      <td>saturday loss michigan crush blow 2022 still g...</td>\n",
       "      <td>2022-11-29</td>\n",
       "      <td>-7.0</td>\n",
       "      <td>negative</td>\n",
       "    </tr>\n",
       "    <tr>\n",
       "      <th>1458</th>\n",
       "      <td>BABB TO MISS TIME WITH INJURY AGAIN</td>\n",
       "      <td>fifthyear senior wide receiv kamryn babb alrea...</td>\n",
       "      <td>2022-08-22</td>\n",
       "      <td>-6.0</td>\n",
       "      <td>negative</td>\n",
       "    </tr>\n",
       "    <tr>\n",
       "      <th>390</th>\n",
       "      <td>RIEP, WINT FOUND NOT GUILTY</td>\n",
       "      <td>former defen back amir riep jahsen wint found ...</td>\n",
       "      <td>2023-02-09</td>\n",
       "      <td>-6.0</td>\n",
       "      <td>negative</td>\n",
       "    </tr>\n",
       "    <tr>\n",
       "      <th>...</th>\n",
       "      <td>...</td>\n",
       "      <td>...</td>\n",
       "      <td>...</td>\n",
       "      <td>...</td>\n",
       "      <td>...</td>\n",
       "    </tr>\n",
       "    <tr>\n",
       "      <th>1159</th>\n",
       "      <td>RUTGERS</td>\n",
       "      <td>rutger score point giftwrap ground relentless</td>\n",
       "      <td>2022-10-02</td>\n",
       "      <td>-1.0</td>\n",
       "      <td>negative</td>\n",
       "    </tr>\n",
       "    <tr>\n",
       "      <th>579</th>\n",
       "      <td>OSU IN TOP TWO FOR MARYLAND TE TRANSFER</td>\n",
       "      <td>cj dippr set announc next stop tuesday choo al...</td>\n",
       "      <td>2022-12-23</td>\n",
       "      <td>-1.0</td>\n",
       "      <td>negative</td>\n",
       "    </tr>\n",
       "    <tr>\n",
       "      <th>1154</th>\n",
       "      <td>RUTGERS</td>\n",
       "      <td>ryan turner get first sack dallan hayden kill ...</td>\n",
       "      <td>2022-10-02</td>\n",
       "      <td>-1.0</td>\n",
       "      <td>negative</td>\n",
       "    </tr>\n",
       "    <tr>\n",
       "      <th>588</th>\n",
       "      <td>HENRY PLANS TO TRAVEL TO PEACH BOWL</td>\n",
       "      <td>averi henri plan travel atlanta despit osteosa...</td>\n",
       "      <td>2022-12-21</td>\n",
       "      <td>-1.0</td>\n",
       "      <td>negative</td>\n",
       "    </tr>\n",
       "    <tr>\n",
       "      <th>1361</th>\n",
       "      <td>OSU UNBOTHERED BY SLOW START ON OFFENSE</td>\n",
       "      <td>fewest yard offen sinc 2020 lowest point total...</td>\n",
       "      <td>2022-09-07</td>\n",
       "      <td>-1.0</td>\n",
       "      <td>negative</td>\n",
       "    </tr>\n",
       "  </tbody>\n",
       "</table>\n",
       "<p>270 rows × 5 columns</p>\n",
       "</div>"
      ],
      "text/plain": [
       "                                        title  \\\n",
       "1077           FIVE THINGS TO KNOW ABOUT IOWA   \n",
       "789       DAY TALKS MICHIGAN, HARBAUGH, CORUM   \n",
       "727                 PLAYOFF HOPES STILL ALIVE   \n",
       "1458      BABB TO MISS TIME WITH INJURY AGAIN   \n",
       "390               RIEP, WINT FOUND NOT GUILTY   \n",
       "...                                       ...   \n",
       "1159                                  RUTGERS   \n",
       "579   OSU IN TOP TWO FOR MARYLAND TE TRANSFER   \n",
       "1154                                  RUTGERS   \n",
       "588       HENRY PLANS TO TRAVEL TO PEACH BOWL   \n",
       "1361  OSU UNBOTHERED BY SLOW START ON OFFENSE   \n",
       "\n",
       "                                            description        date  score  \\\n",
       "1077  five thing know iowa worst offen fb worst star...  2022-10-17   -8.0   \n",
       "789   ryan day discuss threat michigan pose hardship...  2022-11-22   -7.0   \n",
       "727   saturday loss michigan crush blow 2022 still g...  2022-11-29   -7.0   \n",
       "1458  fifthyear senior wide receiv kamryn babb alrea...  2022-08-22   -6.0   \n",
       "390   former defen back amir riep jahsen wint found ...  2023-02-09   -6.0   \n",
       "...                                                 ...         ...    ...   \n",
       "1159      rutger score point giftwrap ground relentless  2022-10-02   -1.0   \n",
       "579   cj dippr set announc next stop tuesday choo al...  2022-12-23   -1.0   \n",
       "1154  ryan turner get first sack dallan hayden kill ...  2022-10-02   -1.0   \n",
       "588   averi henri plan travel atlanta despit osteosa...  2022-12-21   -1.0   \n",
       "1361  fewest yard offen sinc 2020 lowest point total...  2022-09-07   -1.0   \n",
       "\n",
       "     sentiment  \n",
       "1077  negative  \n",
       "789   negative  \n",
       "727   negative  \n",
       "1458  negative  \n",
       "390   negative  \n",
       "...        ...  \n",
       "1159  negative  \n",
       "579   negative  \n",
       "1154  negative  \n",
       "588   negative  \n",
       "1361  negative  \n",
       "\n",
       "[270 rows x 5 columns]"
      ]
     },
     "execution_count": 61,
     "metadata": {},
     "output_type": "execute_result"
    }
   ],
   "source": [
    "# View negative data to check if its right\n",
    "df[df['sentiment'] == 'negative'].sort_values(by = 'score')"
   ]
  },
  {
   "cell_type": "code",
   "execution_count": 63,
   "metadata": {},
   "outputs": [
    {
     "data": {
      "image/png": "[encoded data removed]",
      "text/plain": [
       "<Figure size 800x600 with 1 Axes>"
      ]
     },
     "metadata": {},
     "output_type": "display_data"
    }
   ],
   "source": [
    "# Sentiment pie chart\n",
    "df.sentiment.value_counts().plot(kind='pie', autopct='%1.0f%%', colors=[\"yellow\", \"green\", \"red\"])\n",
    "plt.show()"
   ]
  },
  {
   "cell_type": "code",
   "execution_count": 75,
   "metadata": {},
   "outputs": [
    {
     "data": {
      "image/png": "[encoded data removed]",
      "text/plain": [
       "<Figure size 1200x800 with 3 Axes>"
      ]
     },
     "metadata": {},
     "output_type": "display_data"
    }
   ],
   "source": [
    "# Convert 'Date' column to datetime\n",
    "df['date'] = pd.to_datetime(df['date'])\n",
    "\n",
    "# Count sentiment occurrences per month\n",
    "sentiment_counts = df.groupby([pd.Grouper(key='date', freq='M'), 'sentiment']).size().unstack(fill_value=0)\n",
    "\n",
    "# Creating separate axes for each sentiment\n",
    "fig, axes = plt.subplots(nrows=3, figsize=(12, 8), sharex=True, sharey=True)\n",
    "\n",
    "# Plotting positive sentiment\n",
    "axes[0].plot(sentiment_counts.index, sentiment_counts['positive'], color='green')\n",
    "axes[0].set_ylabel('Positive Sentiment Count')\n",
    "axes[0].set_title('Sentiment Over Time')\n",
    "\n",
    "# Plotting neutral sentiment\n",
    "axes[1].plot(sentiment_counts.index, sentiment_counts['neutral'], color='orange')\n",
    "axes[1].set_ylabel('Neutral Sentiment Count')\n",
    "\n",
    "# Plotting negative sentiment\n",
    "axes[2].plot(sentiment_counts.index, sentiment_counts['negative'], color='red')\n",
    "axes[2].set_xlabel('date')\n",
    "axes[2].set_ylabel('Negative Sentiment Count')\n",
    "\n",
    "plt.xticks(rotation=45)\n",
    "plt.tight_layout()\n",
    "plt.show()"
   ]
  },
  {
   "cell_type": "markdown",
   "metadata": {},
   "source": [
    "## Sentiment Analysis Classification"
   ]
  },
  {
   "cell_type": "code",
   "execution_count": 76,
   "metadata": {},
   "outputs": [],
   "source": [
    "# Split data into only those that occur in at least 7 documents\n",
    "features = df['description']\n",
    "vectorizer = TfidfVectorizer(max_features=2500, min_df=7, max_df=0.8, stop_words=stop)\n",
    "processed_features = vectorizer.fit_transform(features).toarray()"
   ]
  },
  {
   "cell_type": "code",
   "execution_count": 77,
   "metadata": {},
   "outputs": [],
   "source": [
    "# Create train test split\n",
    "labels = df['sentiment']\n",
    "X_train, X_test, y_train, y_test = train_test_split(processed_features, labels, test_size=0.2, random_state=0)"
   ]
  },
  {
   "cell_type": "code",
   "execution_count": 105,
   "metadata": {},
   "outputs": [
    {
     "data": {
      "text/html": [
       "<style>#sk-container-id-6 {color: black;background-color: white;}#sk-container-id-6 pre{padding: 0;}#sk-container-id-6 div.sk-toggleable {background-color: white;}#sk-container-id-6 label.sk-toggleable__label {cursor: pointer;display: block;width: 100%;margin-bottom: 0;padding: 0.3em;box-sizing: border-box;text-align: center;}#sk-container-id-6 label.sk-toggleable__label-arrow:before {content: \"▸\";float: left;margin-right: 0.25em;color: #696969;}#sk-container-id-6 label.sk-toggleable__label-arrow:hover:before {color: black;}#sk-container-id-6 div.sk-estimator:hover label.sk-toggleable__label-arrow:before {color: black;}#sk-container-id-6 div.sk-toggleable__content {max-height: 0;max-width: 0;overflow: hidden;text-align: left;background-color: #f0f8ff;}#sk-container-id-6 div.sk-toggleable__content pre {margin: 0.2em;color: black;border-radius: 0.25em;background-color: #f0f8ff;}#sk-container-id-6 input.sk-toggleable__control:checked~div.sk-toggleable__content {max-height: 200px;max-width: 100%;overflow: auto;}#sk-container-id-6 input.sk-toggleable__control:checked~label.sk-toggleable__label-arrow:before {content: \"▾\";}#sk-container-id-6 div.sk-estimator input.sk-toggleable__control:checked~label.sk-toggleable__label {background-color: #d4ebff;}#sk-container-id-6 div.sk-label input.sk-toggleable__control:checked~label.sk-toggleable__label {background-color: #d4ebff;}#sk-container-id-6 input.sk-hidden--visually {border: 0;clip: rect(1px 1px 1px 1px);clip: rect(1px, 1px, 1px, 1px);height: 1px;margin: -1px;overflow: hidden;padding: 0;position: absolute;width: 1px;}#sk-container-id-6 div.sk-estimator {font-family: monospace;background-color: #f0f8ff;border: 1px dotted black;border-radius: 0.25em;box-sizing: border-box;margin-bottom: 0.5em;}#sk-container-id-6 div.sk-estimator:hover {background-color: #d4ebff;}#sk-container-id-6 div.sk-parallel-item::after {content: \"\";width: 100%;border-bottom: 1px solid gray;flex-grow: 1;}#sk-container-id-6 div.sk-label:hover label.sk-toggleable__label {background-color: #d4ebff;}#sk-container-id-6 div.sk-serial::before {content: \"\";position: absolute;border-left: 1px solid gray;box-sizing: border-box;top: 0;bottom: 0;left: 50%;z-index: 0;}#sk-container-id-6 div.sk-serial {display: flex;flex-direction: column;align-items: center;background-color: white;padding-right: 0.2em;padding-left: 0.2em;position: relative;}#sk-container-id-6 div.sk-item {position: relative;z-index: 1;}#sk-container-id-6 div.sk-parallel {display: flex;align-items: stretch;justify-content: center;background-color: white;position: relative;}#sk-container-id-6 div.sk-item::before, #sk-container-id-6 div.sk-parallel-item::before {content: \"\";position: absolute;border-left: 1px solid gray;box-sizing: border-box;top: 0;bottom: 0;left: 50%;z-index: -1;}#sk-container-id-6 div.sk-parallel-item {display: flex;flex-direction: column;z-index: 1;position: relative;background-color: white;}#sk-container-id-6 div.sk-parallel-item:first-child::after {align-self: flex-end;width: 50%;}#sk-container-id-6 div.sk-parallel-item:last-child::after {align-self: flex-start;width: 50%;}#sk-container-id-6 div.sk-parallel-item:only-child::after {width: 0;}#sk-container-id-6 div.sk-dashed-wrapped {border: 1px dashed gray;margin: 0 0.4em 0.5em 0.4em;box-sizing: border-box;padding-bottom: 0.4em;background-color: white;}#sk-container-id-6 div.sk-label label {font-family: monospace;font-weight: bold;display: inline-block;line-height: 1.2em;}#sk-container-id-6 div.sk-label-container {text-align: center;}#sk-container-id-6 div.sk-container {/* jupyter's `normalize.less` sets `[hidden] { display: none; }` but bootstrap.min.css set `[hidden] { display: none !important; }` so we also need the `!important` here to be able to override the default hidden behavior on the sphinx rendered scikit-learn.org. See: https://github.com/scikit-learn/scikit-learn/issues/21755 */display: inline-block !important;position: relative;}#sk-container-id-6 div.sk-text-repr-fallback {display: none;}</style><div id=\"sk-container-id-6\" class=\"sk-top-container\"><div class=\"sk-text-repr-fallback\"><pre>RandomForestClassifier(n_estimators=1000, random_state=0)</pre><b>In a Jupyter environment, please rerun this cell to show the HTML representation or trust the notebook. <br />On GitHub, the HTML representation is unable to render, please try loading this page with nbviewer.org.</b></div><div class=\"sk-container\" hidden><div class=\"sk-item\"><div class=\"sk-estimator sk-toggleable\"><input class=\"sk-toggleable__control sk-hidden--visually\" id=\"sk-estimator-id-6\" type=\"checkbox\" checked><label for=\"sk-estimator-id-6\" class=\"sk-toggleable__label sk-toggleable__label-arrow\">RandomForestClassifier</label><div class=\"sk-toggleable__content\"><pre>RandomForestClassifier(n_estimators=1000, random_state=0)</pre></div></div></div></div></div>"
      ],
      "text/plain": [
       "RandomForestClassifier(n_estimators=1000, random_state=0)"
      ]
     },
     "execution_count": 105,
     "metadata": {},
     "output_type": "execute_result"
    }
   ],
   "source": [
    "# Train a Random Forest ML model on the data\n",
    "text_classifier = RandomForestClassifier(n_estimators=1000, random_state=0)\n",
    "text_classifier.fit(X_train, y_train)"
   ]
  },
  {
   "cell_type": "code",
   "execution_count": 106,
   "metadata": {},
   "outputs": [],
   "source": [
    "# Generate a testing model\n",
    "predictions = text_classifier.predict(X_test)"
   ]
  },
  {
   "cell_type": "code",
   "execution_count": 107,
   "metadata": {},
   "outputs": [
    {
     "name": "stdout",
     "output_type": "stream",
     "text": [
      "[[ 31  36   3]\n",
      " [  4 148   9]\n",
      " [  1  32 136]]\n"
     ]
    }
   ],
   "source": [
    "# Evauluate Model with Confusion matrix\n",
    "cm = confusion_matrix(y_test,predictions)\n",
    "print(cm)"
   ]
  },
  {
   "cell_type": "code",
   "execution_count": 108,
   "metadata": {},
   "outputs": [
    {
     "data": {
      "text/plain": [
       "0.7875"
      ]
     },
     "execution_count": 108,
     "metadata": {},
     "output_type": "execute_result"
    }
   ],
   "source": [
    "# Accuracy score - can accurately predict a sentiment 79% of the time\n",
    "accuracy_score(y_test,predictions)"
   ]
  },
  {
   "cell_type": "code",
   "execution_count": 109,
   "metadata": {},
   "outputs": [
    {
     "data": {
      "text/plain": [
       "<sklearn.metrics._plot.confusion_matrix.ConfusionMatrixDisplay at 0x2857618e0>"
      ]
     },
     "execution_count": 109,
     "metadata": {},
     "output_type": "execute_result"
    },
    {
     "data": {
      "image/png": "[encoded data removed]",
      "text/plain": [
       "<Figure size 800x600 with 2 Axes>"
      ]
     },
     "metadata": {},
     "output_type": "display_data"
    }
   ],
   "source": [
    "# Visual confusion matrix\n",
    "from sklearn.metrics import ConfusionMatrixDisplay\n",
    "\n",
    "ConfusionMatrixDisplay.from_predictions(y_test,predictions)"
   ]
  },
  {
   "cell_type": "code",
   "execution_count": 91,
   "metadata": {},
   "outputs": [
    {
     "name": "stdout",
     "output_type": "stream",
     "text": [
      "              precision    recall  f1-score   support\n",
      "\n",
      "    negative       0.79      0.43      0.56        70\n",
      "     neutral       0.69      0.91      0.78       161\n",
      "    positive       0.91      0.80      0.86       169\n",
      "\n",
      "    accuracy                           0.78       400\n",
      "   macro avg       0.80      0.71      0.73       400\n",
      "weighted avg       0.80      0.78      0.77       400\n",
      "\n"
     ]
    }
   ],
   "source": [
    "# Classification report\n",
    "print(classification_report(y_test,predictions))\n",
    "# You want an F1 score above 0.90 if possible."
   ]
  },
  {
   "cell_type": "markdown",
   "metadata": {},
   "source": [
    "## Topic Modeling\n",
    "\n",
    "This topic modeling will be done two (2) ways:\n",
    "1. Latent Dirichlet Allocation (LDA)\n",
    "2. Non-Negative Matrix Factorization\n",
    "\n",
    "First decided to run 5 topics and that was too little. Doubled the number of topics to 10 and this made much more sense in terms of what the articles were actually talking about."
   ]
  },
  {
   "cell_type": "markdown",
   "metadata": {},
   "source": [
    "### Latent Dirichlet Allocation (LDA)\n",
    "LDA is a natural language processing technique that creates topics based on the co-occurrence of words in documents."
   ]
  },
  {
   "cell_type": "code",
   "execution_count": 110,
   "metadata": {},
   "outputs": [],
   "source": [
    "# Make sure a term occurs in 80% of less of documents\n",
    "vectorizer = CountVectorizer(max_df=0.8, min_df=4, stop_words='english')"
   ]
  },
  {
   "cell_type": "code",
   "execution_count": 111,
   "metadata": {},
   "outputs": [],
   "source": [
    "# Create document term matrix\n",
    "doc_term_matrix = vectorizer.fit_transform(df['description'].values.astype('U')) # U = unicode "
   ]
  },
  {
   "cell_type": "code",
   "execution_count": 112,
   "metadata": {},
   "outputs": [
    {
     "data": {
      "text/plain": [
       "(1996, 1254)"
      ]
     },
     "execution_count": 112,
     "metadata": {},
     "output_type": "execute_result"
    }
   ],
   "source": [
    "# Check shape of doc term matrix\n",
    "doc_term_matrix.shape"
   ]
  },
  {
   "cell_type": "code",
   "execution_count": 138,
   "metadata": {},
   "outputs": [
    {
     "data": {
      "text/html": [
       "<style>#sk-container-id-10 {color: black;background-color: white;}#sk-container-id-10 pre{padding: 0;}#sk-container-id-10 div.sk-toggleable {background-color: white;}#sk-container-id-10 label.sk-toggleable__label {cursor: pointer;display: block;width: 100%;margin-bottom: 0;padding: 0.3em;box-sizing: border-box;text-align: center;}#sk-container-id-10 label.sk-toggleable__label-arrow:before {content: \"▸\";float: left;margin-right: 0.25em;color: #696969;}#sk-container-id-10 label.sk-toggleable__label-arrow:hover:before {color: black;}#sk-container-id-10 div.sk-estimator:hover label.sk-toggleable__label-arrow:before {color: black;}#sk-container-id-10 div.sk-toggleable__content {max-height: 0;max-width: 0;overflow: hidden;text-align: left;background-color: #f0f8ff;}#sk-container-id-10 div.sk-toggleable__content pre {margin: 0.2em;color: black;border-radius: 0.25em;background-color: #f0f8ff;}#sk-container-id-10 input.sk-toggleable__control:checked~div.sk-toggleable__content {max-height: 200px;max-width: 100%;overflow: auto;}#sk-container-id-10 input.sk-toggleable__control:checked~label.sk-toggleable__label-arrow:before {content: \"▾\";}#sk-container-id-10 div.sk-estimator input.sk-toggleable__control:checked~label.sk-toggleable__label {background-color: #d4ebff;}#sk-container-id-10 div.sk-label input.sk-toggleable__control:checked~label.sk-toggleable__label {background-color: #d4ebff;}#sk-container-id-10 input.sk-hidden--visually {border: 0;clip: rect(1px 1px 1px 1px);clip: rect(1px, 1px, 1px, 1px);height: 1px;margin: -1px;overflow: hidden;padding: 0;position: absolute;width: 1px;}#sk-container-id-10 div.sk-estimator {font-family: monospace;background-color: #f0f8ff;border: 1px dotted black;border-radius: 0.25em;box-sizing: border-box;margin-bottom: 0.5em;}#sk-container-id-10 div.sk-estimator:hover {background-color: #d4ebff;}#sk-container-id-10 div.sk-parallel-item::after {content: \"\";width: 100%;border-bottom: 1px solid gray;flex-grow: 1;}#sk-container-id-10 div.sk-label:hover label.sk-toggleable__label {background-color: #d4ebff;}#sk-container-id-10 div.sk-serial::before {content: \"\";position: absolute;border-left: 1px solid gray;box-sizing: border-box;top: 0;bottom: 0;left: 50%;z-index: 0;}#sk-container-id-10 div.sk-serial {display: flex;flex-direction: column;align-items: center;background-color: white;padding-right: 0.2em;padding-left: 0.2em;position: relative;}#sk-container-id-10 div.sk-item {position: relative;z-index: 1;}#sk-container-id-10 div.sk-parallel {display: flex;align-items: stretch;justify-content: center;background-color: white;position: relative;}#sk-container-id-10 div.sk-item::before, #sk-container-id-10 div.sk-parallel-item::before {content: \"\";position: absolute;border-left: 1px solid gray;box-sizing: border-box;top: 0;bottom: 0;left: 50%;z-index: -1;}#sk-container-id-10 div.sk-parallel-item {display: flex;flex-direction: column;z-index: 1;position: relative;background-color: white;}#sk-container-id-10 div.sk-parallel-item:first-child::after {align-self: flex-end;width: 50%;}#sk-container-id-10 div.sk-parallel-item:last-child::after {align-self: flex-start;width: 50%;}#sk-container-id-10 div.sk-parallel-item:only-child::after {width: 0;}#sk-container-id-10 div.sk-dashed-wrapped {border: 1px dashed gray;margin: 0 0.4em 0.5em 0.4em;box-sizing: border-box;padding-bottom: 0.4em;background-color: white;}#sk-container-id-10 div.sk-label label {font-family: monospace;font-weight: bold;display: inline-block;line-height: 1.2em;}#sk-container-id-10 div.sk-label-container {text-align: center;}#sk-container-id-10 div.sk-container {/* jupyter's `normalize.less` sets `[hidden] { display: none; }` but bootstrap.min.css set `[hidden] { display: none !important; }` so we also need the `!important` here to be able to override the default hidden behavior on the sphinx rendered scikit-learn.org. See: https://github.com/scikit-learn/scikit-learn/issues/21755 */display: inline-block !important;position: relative;}#sk-container-id-10 div.sk-text-repr-fallback {display: none;}</style><div id=\"sk-container-id-10\" class=\"sk-top-container\"><div class=\"sk-text-repr-fallback\"><pre>LatentDirichletAllocation(random_state=35)</pre><b>In a Jupyter environment, please rerun this cell to show the HTML representation or trust the notebook. <br />On GitHub, the HTML representation is unable to render, please try loading this page with nbviewer.org.</b></div><div class=\"sk-container\" hidden><div class=\"sk-item\"><div class=\"sk-estimator sk-toggleable\"><input class=\"sk-toggleable__control sk-hidden--visually\" id=\"sk-estimator-id-10\" type=\"checkbox\" checked><label for=\"sk-estimator-id-10\" class=\"sk-toggleable__label sk-toggleable__label-arrow\">LatentDirichletAllocation</label><div class=\"sk-toggleable__content\"><pre>LatentDirichletAllocation(random_state=35)</pre></div></div></div></div></div>"
      ],
      "text/plain": [
       "LatentDirichletAllocation(random_state=35)"
      ]
     },
     "execution_count": 138,
     "metadata": {},
     "output_type": "execute_result"
    }
   ],
   "source": [
    "# Fit LDA (this could take awhile if you have a large dataset)\n",
    "LDA = LatentDirichletAllocation(n_components=10, random_state=35) # Set random state so each time the results are the same - n_components = number of topics to create\n",
    "LDA.fit(doc_term_matrix)"
   ]
  },
  {
   "cell_type": "code",
   "execution_count": 139,
   "metadata": {},
   "outputs": [
    {
     "name": "stdout",
     "output_type": "stream",
     "text": [
      "big\n",
      "play\n",
      "georgia\n",
      "open\n",
      "black\n",
      "peach\n",
      "final\n",
      "colleg\n",
      "end\n",
      "bowl\n"
     ]
    }
   ],
   "source": [
    "# Retrieve words in first topic\n",
    "first_topic = LDA.components_[0]\n",
    "top_topic_words = first_topic.argsort()[-10:]\n",
    "\n",
    "for i in top_topic_words:\n",
    "    print(vectorizer.get_feature_names_out()[i])"
   ]
  },
  {
   "cell_type": "code",
   "execution_count": 140,
   "metadata": {},
   "outputs": [
    {
     "name": "stdout",
     "output_type": "stream",
     "text": [
      "Top 10 words for topic #0:\n",
      "['big', 'play', 'georgia', 'open', 'black', 'peach', 'final', 'colleg', 'end', 'bowl']\n",
      "\n",
      "\n",
      "Top 10 words for topic #1:\n",
      "['spring', 'discuss', 'return', 'expect', 'offen', 'defen', 'jim', 'say', 'ryan', 'day']\n",
      "\n",
      "\n",
      "Top 10 words for topic #2:\n",
      "['class', 'chri', '2022', 'garrett', 'wilson', 'new', 'receiv', '2023', 'draft', 'nfl']\n",
      "\n",
      "\n",
      "Top 10 words for topic #3:\n",
      "['kyle', 'nfl', 'year', 'receiv', 'brown', 'player', 'marvin', 'touchdown', 'jr', 'harrison']\n",
      "\n",
      "\n",
      "Top 10 words for topic #4:\n",
      "['defen', 'player', 'win', 'jr', 'saturday', 'offen', 'johnson', 'michigan', 'coach', 'play']\n",
      "\n",
      "\n",
      "Top 10 words for topic #5:\n",
      "['run', 'offen', 'spring', 'win', 'henderson', 'treveyon', 'miyan', 'practic', 'field', 'william']\n",
      "\n",
      "\n",
      "Top 10 words for topic #6:\n",
      "['tackl', 'time', 'includ', '2022', 'end', 'win', 'record', 'player', 'defen', 'michigan']\n",
      "\n",
      "\n",
      "Top 10 words for topic #7:\n",
      "['predict', 'playoff', 'come', 'win', 'dame', 'notr', 'score', 'play', 'transfer', 'colleg']\n",
      "\n",
      "\n",
      "Top 10 words for topic #8:\n",
      "['style', 'offen', 'high', 'week', 'year', 'say', 'knowl', 'play', 'jim', 'defen']\n",
      "\n",
      "\n",
      "Top 10 words for topic #9:\n",
      "['jone', 'jr', 'johnson', 'day', 'jaxon', 'smithnjigba', 'draft', 'nfl', 'stroud', 'cj']\n",
      "\n",
      "\n"
     ]
    }
   ],
   "source": [
    "# Print out top words for topics\n",
    "for i,topic in enumerate(LDA.components_):\n",
    "    print(f'Top 10 words for topic #{i}:')\n",
    "    print([vectorizer.get_feature_names_out()[i] for i in topic.argsort()[-10:]])\n",
    "    print('\\n')"
   ]
  },
  {
   "cell_type": "code",
   "execution_count": 141,
   "metadata": {},
   "outputs": [
    {
     "data": {
      "text/html": [
       "<div>\n",
       "<style scoped>\n",
       "    .dataframe tbody tr th:only-of-type {\n",
       "        vertical-align: middle;\n",
       "    }\n",
       "\n",
       "    .dataframe tbody tr th {\n",
       "        vertical-align: top;\n",
       "    }\n",
       "\n",
       "    .dataframe thead th {\n",
       "        text-align: right;\n",
       "    }\n",
       "</style>\n",
       "<table border=\"1\" class=\"dataframe\">\n",
       "  <thead>\n",
       "    <tr style=\"text-align: right;\">\n",
       "      <th></th>\n",
       "      <th>title</th>\n",
       "      <th>description</th>\n",
       "      <th>date</th>\n",
       "      <th>score</th>\n",
       "      <th>sentiment</th>\n",
       "      <th>topic</th>\n",
       "      <th>topic2</th>\n",
       "    </tr>\n",
       "  </thead>\n",
       "  <tbody>\n",
       "    <tr>\n",
       "      <th>0</th>\n",
       "      <td>SMITH “EXCITED ABOUT HAVING NO DIVISIONS”</td>\n",
       "      <td>gene smith happi big ten go divisionless ok pl...</td>\n",
       "      <td>2023-06-08</td>\n",
       "      <td>1.0</td>\n",
       "      <td>positive</td>\n",
       "      <td>9</td>\n",
       "      <td>4</td>\n",
       "    </tr>\n",
       "    <tr>\n",
       "      <th>1</th>\n",
       "      <td>OSU AT UCLA IN 2024, HOSTS USC IN 2025</td>\n",
       "      <td>play ucla road 2024 set host usc 2025 big ten ...</td>\n",
       "      <td>2023-06-08</td>\n",
       "      <td>1.0</td>\n",
       "      <td>positive</td>\n",
       "      <td>0</td>\n",
       "      <td>4</td>\n",
       "    </tr>\n",
       "    <tr>\n",
       "      <th>2</th>\n",
       "      <td>MICHIGAN WILL BE ONLY ANNUAL OPPONENT</td>\n",
       "      <td>play michigan everi year play everi big ten le...</td>\n",
       "      <td>2023-06-08</td>\n",
       "      <td>1.0</td>\n",
       "      <td>positive</td>\n",
       "      <td>0</td>\n",
       "      <td>4</td>\n",
       "    </tr>\n",
       "    <tr>\n",
       "      <th>3</th>\n",
       "      <td>JAYDEN BONSU</td>\n",
       "      <td>jayden bonsu experi three safeti posit speed a...</td>\n",
       "      <td>2023-06-08</td>\n",
       "      <td>0.0</td>\n",
       "      <td>neutral</td>\n",
       "      <td>8</td>\n",
       "      <td>0</td>\n",
       "    </tr>\n",
       "    <tr>\n",
       "      <th>4</th>\n",
       "      <td>B1G TO UNVEIL NEW SCHEDULE MODEL THURSDAY</td>\n",
       "      <td>big ten relea new schedul model everi play 202...</td>\n",
       "      <td>2023-06-07</td>\n",
       "      <td>2.0</td>\n",
       "      <td>positive</td>\n",
       "      <td>0</td>\n",
       "      <td>4</td>\n",
       "    </tr>\n",
       "  </tbody>\n",
       "</table>\n",
       "</div>"
      ],
      "text/plain": [
       "                                       title  \\\n",
       "0  SMITH “EXCITED ABOUT HAVING NO DIVISIONS”   \n",
       "1     OSU AT UCLA IN 2024, HOSTS USC IN 2025   \n",
       "2      MICHIGAN WILL BE ONLY ANNUAL OPPONENT   \n",
       "3                               JAYDEN BONSU   \n",
       "4  B1G TO UNVEIL NEW SCHEDULE MODEL THURSDAY   \n",
       "\n",
       "                                         description       date  score  \\\n",
       "0  gene smith happi big ten go divisionless ok pl... 2023-06-08    1.0   \n",
       "1  play ucla road 2024 set host usc 2025 big ten ... 2023-06-08    1.0   \n",
       "2  play michigan everi year play everi big ten le... 2023-06-08    1.0   \n",
       "3  jayden bonsu experi three safeti posit speed a... 2023-06-08    0.0   \n",
       "4  big ten relea new schedul model everi play 202... 2023-06-07    2.0   \n",
       "\n",
       "  sentiment  topic  topic2  \n",
       "0  positive      9       4  \n",
       "1  positive      0       4  \n",
       "2  positive      0       4  \n",
       "3   neutral      8       0  \n",
       "4  positive      0       4  "
      ]
     },
     "execution_count": 141,
     "metadata": {},
     "output_type": "execute_result"
    }
   ],
   "source": [
    "# Add topics to document term matrix\n",
    "topic_values = LDA.transform(doc_term_matrix)\n",
    "\n",
    "# Assign values to new column called topic\n",
    "df['topic'] = topic_values.argmax(axis=1)\n",
    "\n",
    "# View data\n",
    "df.head()"
   ]
  },
  {
   "cell_type": "markdown",
   "metadata": {},
   "source": [
    "### Non-Negative Matrix Factorization\n",
    "This is a supervised learning technique in which a matrix is factored into two matrices."
   ]
  },
  {
   "cell_type": "code",
   "execution_count": 134,
   "metadata": {},
   "outputs": [],
   "source": [
    "tfidf_vect = TfidfVectorizer(max_df=0.8, min_df=5, stop_words='english')\n",
    "doc_term_matrix2 = tfidf_vect.fit_transform(df['description'].values.astype('U'))"
   ]
  },
  {
   "cell_type": "code",
   "execution_count": 135,
   "metadata": {},
   "outputs": [
    {
     "name": "stderr",
     "output_type": "stream",
     "text": [
      "/Users/wesjurden/Library/Python/3.8/lib/python/site-packages/sklearn/decomposition/_nmf.py:1692: ConvergenceWarning: Maximum number of iterations 200 reached. Increase it to improve convergence.\n",
      "  warnings.warn(\n"
     ]
    },
    {
     "data": {
      "text/html": [
       "<style>#sk-container-id-9 {color: black;background-color: white;}#sk-container-id-9 pre{padding: 0;}#sk-container-id-9 div.sk-toggleable {background-color: white;}#sk-container-id-9 label.sk-toggleable__label {cursor: pointer;display: block;width: 100%;margin-bottom: 0;padding: 0.3em;box-sizing: border-box;text-align: center;}#sk-container-id-9 label.sk-toggleable__label-arrow:before {content: \"▸\";float: left;margin-right: 0.25em;color: #696969;}#sk-container-id-9 label.sk-toggleable__label-arrow:hover:before {color: black;}#sk-container-id-9 div.sk-estimator:hover label.sk-toggleable__label-arrow:before {color: black;}#sk-container-id-9 div.sk-toggleable__content {max-height: 0;max-width: 0;overflow: hidden;text-align: left;background-color: #f0f8ff;}#sk-container-id-9 div.sk-toggleable__content pre {margin: 0.2em;color: black;border-radius: 0.25em;background-color: #f0f8ff;}#sk-container-id-9 input.sk-toggleable__control:checked~div.sk-toggleable__content {max-height: 200px;max-width: 100%;overflow: auto;}#sk-container-id-9 input.sk-toggleable__control:checked~label.sk-toggleable__label-arrow:before {content: \"▾\";}#sk-container-id-9 div.sk-estimator input.sk-toggleable__control:checked~label.sk-toggleable__label {background-color: #d4ebff;}#sk-container-id-9 div.sk-label input.sk-toggleable__control:checked~label.sk-toggleable__label {background-color: #d4ebff;}#sk-container-id-9 input.sk-hidden--visually {border: 0;clip: rect(1px 1px 1px 1px);clip: rect(1px, 1px, 1px, 1px);height: 1px;margin: -1px;overflow: hidden;padding: 0;position: absolute;width: 1px;}#sk-container-id-9 div.sk-estimator {font-family: monospace;background-color: #f0f8ff;border: 1px dotted black;border-radius: 0.25em;box-sizing: border-box;margin-bottom: 0.5em;}#sk-container-id-9 div.sk-estimator:hover {background-color: #d4ebff;}#sk-container-id-9 div.sk-parallel-item::after {content: \"\";width: 100%;border-bottom: 1px solid gray;flex-grow: 1;}#sk-container-id-9 div.sk-label:hover label.sk-toggleable__label {background-color: #d4ebff;}#sk-container-id-9 div.sk-serial::before {content: \"\";position: absolute;border-left: 1px solid gray;box-sizing: border-box;top: 0;bottom: 0;left: 50%;z-index: 0;}#sk-container-id-9 div.sk-serial {display: flex;flex-direction: column;align-items: center;background-color: white;padding-right: 0.2em;padding-left: 0.2em;position: relative;}#sk-container-id-9 div.sk-item {position: relative;z-index: 1;}#sk-container-id-9 div.sk-parallel {display: flex;align-items: stretch;justify-content: center;background-color: white;position: relative;}#sk-container-id-9 div.sk-item::before, #sk-container-id-9 div.sk-parallel-item::before {content: \"\";position: absolute;border-left: 1px solid gray;box-sizing: border-box;top: 0;bottom: 0;left: 50%;z-index: -1;}#sk-container-id-9 div.sk-parallel-item {display: flex;flex-direction: column;z-index: 1;position: relative;background-color: white;}#sk-container-id-9 div.sk-parallel-item:first-child::after {align-self: flex-end;width: 50%;}#sk-container-id-9 div.sk-parallel-item:last-child::after {align-self: flex-start;width: 50%;}#sk-container-id-9 div.sk-parallel-item:only-child::after {width: 0;}#sk-container-id-9 div.sk-dashed-wrapped {border: 1px dashed gray;margin: 0 0.4em 0.5em 0.4em;box-sizing: border-box;padding-bottom: 0.4em;background-color: white;}#sk-container-id-9 div.sk-label label {font-family: monospace;font-weight: bold;display: inline-block;line-height: 1.2em;}#sk-container-id-9 div.sk-label-container {text-align: center;}#sk-container-id-9 div.sk-container {/* jupyter's `normalize.less` sets `[hidden] { display: none; }` but bootstrap.min.css set `[hidden] { display: none !important; }` so we also need the `!important` here to be able to override the default hidden behavior on the sphinx rendered scikit-learn.org. See: https://github.com/scikit-learn/scikit-learn/issues/21755 */display: inline-block !important;position: relative;}#sk-container-id-9 div.sk-text-repr-fallback {display: none;}</style><div id=\"sk-container-id-9\" class=\"sk-top-container\"><div class=\"sk-text-repr-fallback\"><pre>NMF(n_components=10, random_state=42)</pre><b>In a Jupyter environment, please rerun this cell to show the HTML representation or trust the notebook. <br />On GitHub, the HTML representation is unable to render, please try loading this page with nbviewer.org.</b></div><div class=\"sk-container\" hidden><div class=\"sk-item\"><div class=\"sk-estimator sk-toggleable\"><input class=\"sk-toggleable__control sk-hidden--visually\" id=\"sk-estimator-id-9\" type=\"checkbox\" checked><label for=\"sk-estimator-id-9\" class=\"sk-toggleable__label sk-toggleable__label-arrow\">NMF</label><div class=\"sk-toggleable__content\"><pre>NMF(n_components=10, random_state=42)</pre></div></div></div></div></div>"
      ],
      "text/plain": [
       "NMF(n_components=10, random_state=42)"
      ]
     },
     "execution_count": 135,
     "metadata": {},
     "output_type": "execute_result"
    }
   ],
   "source": [
    "# Fit data to create 10 topics, set random seed (can pick any number you want, but keep it the same each time)\n",
    "nmf = NMF(n_components=10, random_state=42)\n",
    "nmf.fit(doc_term_matrix2)"
   ]
  },
  {
   "cell_type": "code",
   "execution_count": 136,
   "metadata": {},
   "outputs": [
    {
     "name": "stdout",
     "output_type": "stream",
     "text": [
      "end\n",
      "start\n",
      "line\n",
      "coordin\n",
      "say\n",
      "tackl\n",
      "offen\n",
      "knowl\n",
      "jim\n",
      "defen\n"
     ]
    }
   ],
   "source": [
    "# Pull list for first topic\n",
    "first_topic = nmf.components_[0]\n",
    "top_topic_words = first_topic.argsort()[-10:]\n",
    "\n",
    "for i in top_topic_words:\n",
    "    print(tfidf_vect.get_feature_names_out()[i])"
   ]
  },
  {
   "cell_type": "code",
   "execution_count": 137,
   "metadata": {},
   "outputs": [
    {
     "name": "stdout",
     "output_type": "stream",
     "text": [
      "Top 10 words for topic #0:\n",
      "['end', 'start', 'line', 'coordin', 'say', 'tackl', 'offen', 'knowl', 'jim', 'defen']\n",
      "\n",
      "\n",
      "Top 10 words for topic #1:\n",
      "['award', 'firstteam', 'eichenberg', 'tommi', 'allamerican', 'johnson', 'pari', 'marvin', 'harrison', 'jr']\n",
      "\n",
      "\n",
      "Top 10 words for topic #2:\n",
      "['throw', 'big', 'pari', 'trophi', 'heisman', 'smithnjigba', 'jaxon', 'quarterback', 'stroud', 'cj']\n",
      "\n",
      "\n",
      "Top 10 words for topic #3:\n",
      "['expect', 'took', 'spring', 'preview', 'media', 'coach', 'discuss', 'say', 'ryan', 'day']\n",
      "\n",
      "\n",
      "Top 10 words for topic #4:\n",
      "['peach', 'snap', 'georgia', 'michigan', 'bowl', 'time', 'playoff', 'year', 'colleg', 'play']\n",
      "\n",
      "\n",
      "Top 10 words for topic #5:\n",
      "['becom', 'spring', '2022', 'stripe', 'black', 'safeti', 'freshman', 'enter', 'portal', 'transfer']\n",
      "\n",
      "\n",
      "Top 10 words for topic #6:\n",
      "['2023', 'select', 'receiv', 'olav', 'chri', 'wilson', 'garrett', 'pick', 'draft', 'nfl']\n",
      "\n",
      "\n",
      "Top 10 words for topic #7:\n",
      "['return', 'expect', 'injuri', 'run', 'miyan', 'william', 'henderson', 'treveyon', 'jaxon', 'smithnjigba']\n",
      "\n",
      "\n",
      "Top 10 words for topic #8:\n",
      "['quarter', 'predict', 'ahead', 'matchup', 'night', 'beat', 'favorit', 'open', 'notr', 'dame']\n",
      "\n",
      "\n",
      "Top 10 words for topic #9:\n",
      "['got', 'action', 'final', 'touchdown', 'perform', 'michigan', 'week', 'saturday', 'player', 'win']\n",
      "\n",
      "\n"
     ]
    }
   ],
   "source": [
    "# Pull words for the 5 topics created\n",
    "for i,topic in enumerate(nmf.components_):\n",
    "    print(f'Top 10 words for topic #{i}:')\n",
    "    print([tfidf_vect.get_feature_names_out()[i] for i in topic.argsort()[-10:]])\n",
    "    print('\\n')"
   ]
  },
  {
   "cell_type": "code",
   "execution_count": 142,
   "metadata": {},
   "outputs": [
    {
     "data": {
      "text/html": [
       "<div>\n",
       "<style scoped>\n",
       "    .dataframe tbody tr th:only-of-type {\n",
       "        vertical-align: middle;\n",
       "    }\n",
       "\n",
       "    .dataframe tbody tr th {\n",
       "        vertical-align: top;\n",
       "    }\n",
       "\n",
       "    .dataframe thead th {\n",
       "        text-align: right;\n",
       "    }\n",
       "</style>\n",
       "<table border=\"1\" class=\"dataframe\">\n",
       "  <thead>\n",
       "    <tr style=\"text-align: right;\">\n",
       "      <th></th>\n",
       "      <th>title</th>\n",
       "      <th>description</th>\n",
       "      <th>date</th>\n",
       "      <th>score</th>\n",
       "      <th>sentiment</th>\n",
       "      <th>topic</th>\n",
       "      <th>topic2</th>\n",
       "    </tr>\n",
       "  </thead>\n",
       "  <tbody>\n",
       "    <tr>\n",
       "      <th>0</th>\n",
       "      <td>SMITH “EXCITED ABOUT HAVING NO DIVISIONS”</td>\n",
       "      <td>gene smith happi big ten go divisionless ok pl...</td>\n",
       "      <td>2023-06-08</td>\n",
       "      <td>1.0</td>\n",
       "      <td>positive</td>\n",
       "      <td>9</td>\n",
       "      <td>4</td>\n",
       "    </tr>\n",
       "    <tr>\n",
       "      <th>1</th>\n",
       "      <td>OSU AT UCLA IN 2024, HOSTS USC IN 2025</td>\n",
       "      <td>play ucla road 2024 set host usc 2025 big ten ...</td>\n",
       "      <td>2023-06-08</td>\n",
       "      <td>1.0</td>\n",
       "      <td>positive</td>\n",
       "      <td>0</td>\n",
       "      <td>4</td>\n",
       "    </tr>\n",
       "    <tr>\n",
       "      <th>2</th>\n",
       "      <td>MICHIGAN WILL BE ONLY ANNUAL OPPONENT</td>\n",
       "      <td>play michigan everi year play everi big ten le...</td>\n",
       "      <td>2023-06-08</td>\n",
       "      <td>1.0</td>\n",
       "      <td>positive</td>\n",
       "      <td>0</td>\n",
       "      <td>4</td>\n",
       "    </tr>\n",
       "    <tr>\n",
       "      <th>3</th>\n",
       "      <td>JAYDEN BONSU</td>\n",
       "      <td>jayden bonsu experi three safeti posit speed a...</td>\n",
       "      <td>2023-06-08</td>\n",
       "      <td>0.0</td>\n",
       "      <td>neutral</td>\n",
       "      <td>8</td>\n",
       "      <td>0</td>\n",
       "    </tr>\n",
       "    <tr>\n",
       "      <th>4</th>\n",
       "      <td>B1G TO UNVEIL NEW SCHEDULE MODEL THURSDAY</td>\n",
       "      <td>big ten relea new schedul model everi play 202...</td>\n",
       "      <td>2023-06-07</td>\n",
       "      <td>2.0</td>\n",
       "      <td>positive</td>\n",
       "      <td>0</td>\n",
       "      <td>4</td>\n",
       "    </tr>\n",
       "  </tbody>\n",
       "</table>\n",
       "</div>"
      ],
      "text/plain": [
       "                                       title  \\\n",
       "0  SMITH “EXCITED ABOUT HAVING NO DIVISIONS”   \n",
       "1     OSU AT UCLA IN 2024, HOSTS USC IN 2025   \n",
       "2      MICHIGAN WILL BE ONLY ANNUAL OPPONENT   \n",
       "3                               JAYDEN BONSU   \n",
       "4  B1G TO UNVEIL NEW SCHEDULE MODEL THURSDAY   \n",
       "\n",
       "                                         description       date  score  \\\n",
       "0  gene smith happi big ten go divisionless ok pl... 2023-06-08    1.0   \n",
       "1  play ucla road 2024 set host usc 2025 big ten ... 2023-06-08    1.0   \n",
       "2  play michigan everi year play everi big ten le... 2023-06-08    1.0   \n",
       "3  jayden bonsu experi three safeti posit speed a... 2023-06-08    0.0   \n",
       "4  big ten relea new schedul model everi play 202... 2023-06-07    2.0   \n",
       "\n",
       "  sentiment  topic  topic2  \n",
       "0  positive      9       4  \n",
       "1  positive      0       4  \n",
       "2  positive      0       4  \n",
       "3   neutral      8       0  \n",
       "4  positive      0       4  "
      ]
     },
     "execution_count": 142,
     "metadata": {},
     "output_type": "execute_result"
    }
   ],
   "source": [
    "# Create topic2 column\n",
    "topic_values2 = nmf.transform(doc_term_matrix2)\n",
    "df['topic2'] = topic_values2.argmax(axis=1)\n",
    "df.head()"
   ]
  },
  {
   "cell_type": "code",
   "execution_count": 143,
   "metadata": {},
   "outputs": [
    {
     "data": {
      "image/png": "[encoded data removed]",
      "text/plain": [
       "<Figure size 800x600 with 1 Axes>"
      ]
     },
     "metadata": {},
     "output_type": "display_data"
    }
   ],
   "source": [
    "df.topic.value_counts().plot(kind='bar')\n",
    "plt.ylim(0,800)\n",
    "plt.show()"
   ]
  },
  {
   "cell_type": "code",
   "execution_count": 144,
   "metadata": {},
   "outputs": [
    {
     "data": {
      "image/png": "[encoded data removed]",
      "text/plain": [
       "<Figure size 800x600 with 1 Axes>"
      ]
     },
     "metadata": {},
     "output_type": "display_data"
    }
   ],
   "source": [
    "df.topic2.value_counts().plot(kind='bar')\n",
    "plt.ylim(0,800)\n",
    "plt.show()"
   ]
  },
  {
   "cell_type": "code",
   "execution_count": 147,
   "metadata": {},
   "outputs": [
    {
     "data": {
      "text/html": [
       "<div>\n",
       "<style scoped>\n",
       "    .dataframe tbody tr th:only-of-type {\n",
       "        vertical-align: middle;\n",
       "    }\n",
       "\n",
       "    .dataframe tbody tr th {\n",
       "        vertical-align: top;\n",
       "    }\n",
       "\n",
       "    .dataframe thead th {\n",
       "        text-align: right;\n",
       "    }\n",
       "</style>\n",
       "<table border=\"1\" class=\"dataframe\">\n",
       "  <thead>\n",
       "    <tr style=\"text-align: right;\">\n",
       "      <th></th>\n",
       "      <th>title</th>\n",
       "      <th>description</th>\n",
       "      <th>date</th>\n",
       "      <th>score</th>\n",
       "      <th>sentiment</th>\n",
       "      <th>topic</th>\n",
       "      <th>topic2</th>\n",
       "    </tr>\n",
       "  </thead>\n",
       "  <tbody>\n",
       "    <tr>\n",
       "      <th>17</th>\n",
       "      <td>“THE ADDITION OF JOE HAS BEEN PHENOMENAL”</td>\n",
       "      <td>brian hartlin expect learn joe philbin philbin...</td>\n",
       "      <td>2023-06-03</td>\n",
       "      <td>0.0</td>\n",
       "      <td>neutral</td>\n",
       "      <td>1</td>\n",
       "      <td>6</td>\n",
       "    </tr>\n",
       "    <tr>\n",
       "      <th>19</th>\n",
       "      <td>DAY SAYS NIL BRINGS CHALLENGES IN PORTAL</td>\n",
       "      <td>appear guest chri holtmann podcast wednesday r...</td>\n",
       "      <td>2023-06-02</td>\n",
       "      <td>-1.0</td>\n",
       "      <td>negative</td>\n",
       "      <td>1</td>\n",
       "      <td>3</td>\n",
       "    </tr>\n",
       "    <tr>\n",
       "      <th>23</th>\n",
       "      <td>DAY CONTINUES TO MOLD OSU POST-URBAN</td>\n",
       "      <td>ryan day continu mold manageri style still mai...</td>\n",
       "      <td>2023-06-01</td>\n",
       "      <td>2.0</td>\n",
       "      <td>positive</td>\n",
       "      <td>1</td>\n",
       "      <td>3</td>\n",
       "    </tr>\n",
       "    <tr>\n",
       "      <th>32</th>\n",
       "      <td>HENRY’S RETURN “WAY DOWN THE ROAD”</td>\n",
       "      <td>justin frye said yet discuss return averi henr...</td>\n",
       "      <td>2023-05-31</td>\n",
       "      <td>1.0</td>\n",
       "      <td>positive</td>\n",
       "      <td>1</td>\n",
       "      <td>3</td>\n",
       "    </tr>\n",
       "    <tr>\n",
       "      <th>35</th>\n",
       "      <td>UPDATES FROM OSU’S OFFENSIVE COACHES</td>\n",
       "      <td>brian hartlin isnt take respon oc lightli core...</td>\n",
       "      <td>2023-05-30</td>\n",
       "      <td>3.0</td>\n",
       "      <td>positive</td>\n",
       "      <td>1</td>\n",
       "      <td>3</td>\n",
       "    </tr>\n",
       "    <tr>\n",
       "      <th>...</th>\n",
       "      <td>...</td>\n",
       "      <td>...</td>\n",
       "      <td>...</td>\n",
       "      <td>...</td>\n",
       "      <td>...</td>\n",
       "      <td>...</td>\n",
       "      <td>...</td>\n",
       "    </tr>\n",
       "    <tr>\n",
       "      <th>1902</th>\n",
       "      <td>DAY, KNOWLES, WILSON TALK START OF SPRING</td>\n",
       "      <td>ryan day jim knowl kevin wilson spoke member m...</td>\n",
       "      <td>2022-03-08</td>\n",
       "      <td>0.0</td>\n",
       "      <td>neutral</td>\n",
       "      <td>1</td>\n",
       "      <td>3</td>\n",
       "    </tr>\n",
       "    <tr>\n",
       "      <th>1975</th>\n",
       "      <td>“I DON'T HAVE FOUR YEARS HERE”</td>\n",
       "      <td>expect timefram defen turnaround shorter ever ...</td>\n",
       "      <td>2022-02-04</td>\n",
       "      <td>0.0</td>\n",
       "      <td>neutral</td>\n",
       "      <td>1</td>\n",
       "      <td>0</td>\n",
       "    </tr>\n",
       "    <tr>\n",
       "      <th>1983</th>\n",
       "      <td>FRYE WANTS O-LINE TO BE “FELT” IN 2022</td>\n",
       "      <td>new offen line coach justin frye say offen alr...</td>\n",
       "      <td>2022-02-02</td>\n",
       "      <td>6.0</td>\n",
       "      <td>positive</td>\n",
       "      <td>1</td>\n",
       "      <td>0</td>\n",
       "    </tr>\n",
       "    <tr>\n",
       "      <th>1992</th>\n",
       "      <td>DAY WILL CONTINUE RUNNING OFFENSE</td>\n",
       "      <td>even though offen coordin pass coordin run coo...</td>\n",
       "      <td>2022-02-01</td>\n",
       "      <td>0.0</td>\n",
       "      <td>neutral</td>\n",
       "      <td>1</td>\n",
       "      <td>3</td>\n",
       "    </tr>\n",
       "    <tr>\n",
       "      <th>1994</th>\n",
       "      <td>DAY’S STAFF OVERHAUL TOUGH BUT NECESSARY</td>\n",
       "      <td>ryan day opt replac defen coach staff felt fre...</td>\n",
       "      <td>2022-01-31</td>\n",
       "      <td>1.0</td>\n",
       "      <td>positive</td>\n",
       "      <td>1</td>\n",
       "      <td>3</td>\n",
       "    </tr>\n",
       "  </tbody>\n",
       "</table>\n",
       "<p>305 rows × 7 columns</p>\n",
       "</div>"
      ],
      "text/plain": [
       "                                          title  \\\n",
       "17    “THE ADDITION OF JOE HAS BEEN PHENOMENAL”   \n",
       "19     DAY SAYS NIL BRINGS CHALLENGES IN PORTAL   \n",
       "23         DAY CONTINUES TO MOLD OSU POST-URBAN   \n",
       "32           HENRY’S RETURN “WAY DOWN THE ROAD”   \n",
       "35         UPDATES FROM OSU’S OFFENSIVE COACHES   \n",
       "...                                         ...   \n",
       "1902  DAY, KNOWLES, WILSON TALK START OF SPRING   \n",
       "1975             “I DON'T HAVE FOUR YEARS HERE”   \n",
       "1983     FRYE WANTS O-LINE TO BE “FELT” IN 2022   \n",
       "1992          DAY WILL CONTINUE RUNNING OFFENSE   \n",
       "1994   DAY’S STAFF OVERHAUL TOUGH BUT NECESSARY   \n",
       "\n",
       "                                            description       date  score  \\\n",
       "17    brian hartlin expect learn joe philbin philbin... 2023-06-03    0.0   \n",
       "19    appear guest chri holtmann podcast wednesday r... 2023-06-02   -1.0   \n",
       "23    ryan day continu mold manageri style still mai... 2023-06-01    2.0   \n",
       "32    justin frye said yet discuss return averi henr... 2023-05-31    1.0   \n",
       "35    brian hartlin isnt take respon oc lightli core... 2023-05-30    3.0   \n",
       "...                                                 ...        ...    ...   \n",
       "1902  ryan day jim knowl kevin wilson spoke member m... 2022-03-08    0.0   \n",
       "1975  expect timefram defen turnaround shorter ever ... 2022-02-04    0.0   \n",
       "1983  new offen line coach justin frye say offen alr... 2022-02-02    6.0   \n",
       "1992  even though offen coordin pass coordin run coo... 2022-02-01    0.0   \n",
       "1994  ryan day opt replac defen coach staff felt fre... 2022-01-31    1.0   \n",
       "\n",
       "     sentiment  topic  topic2  \n",
       "17     neutral      1       6  \n",
       "19    negative      1       3  \n",
       "23    positive      1       3  \n",
       "32    positive      1       3  \n",
       "35    positive      1       3  \n",
       "...        ...    ...     ...  \n",
       "1902   neutral      1       3  \n",
       "1975   neutral      1       0  \n",
       "1983  positive      1       0  \n",
       "1992   neutral      1       3  \n",
       "1994  positive      1       3  \n",
       "\n",
       "[305 rows x 7 columns]"
      ]
     },
     "execution_count": 147,
     "metadata": {},
     "output_type": "execute_result"
    }
   ],
   "source": [
    "df[df.topic == 1]"
   ]
  },
  {
   "cell_type": "code",
   "execution_count": null,
   "metadata": {},
   "outputs": [],
   "source": []
  }
 ],
 "metadata": {
  "kernelspec": {
   "display_name": "Python 3.8.9 64-bit",
   "language": "python",
   "name": "python3"
  },
  "language_info": {
   "codemirror_mode": {
    "name": "ipython",
    "version": 3
   },
   "file_extension": ".py",
   "mimetype": "text/x-python",
   "name": "python",
   "nbconvert_exporter": "python",
   "pygments_lexer": "ipython3",
   "version": "3.8.9"
  },
  "orig_nbformat": 4,
  "vscode": {
   "interpreter": {
    "hash": "31f2aee4e71d21fbe5cf8b01ff0e069b9275f58929596ceb00d14d90e3e16cd6"
   }
  }
 },
 "nbformat": 4,
 "nbformat_minor": 2
}
