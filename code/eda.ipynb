{
 "cells": [
  {
   "cell_type": "markdown",
   "metadata": {},
   "source": [
    "# College Football Exploratory Data Analysis"
   ]
  },
  {
   "cell_type": "markdown",
   "metadata": {},
   "source": [
    "## Importing and Describing Data"
   ]
  },
  {
   "cell_type": "code",
   "execution_count": 7,
   "metadata": {},
   "outputs": [
    {
     "name": "stdout",
     "output_type": "stream",
     "text": [
      "<class 'pandas.core.frame.DataFrame'>\n",
      "RangeIndex: 3668 entries, 0 to 3667\n",
      "Data columns (total 33 columns):\n",
      " #   Column              Non-Null Count  Dtype  \n",
      "---  ------              --------------  -----  \n",
      " 0   attendance          0 non-null      float64\n",
      " 1   away_conference     3615 non-null   object \n",
      " 2   away_division       3615 non-null   object \n",
      " 3   away_id             3668 non-null   int64  \n",
      " 4   away_line_scores    3655 non-null   object \n",
      " 5   away_points         3367 non-null   float64\n",
      " 6   away_post_win_prob  1409 non-null   float64\n",
      " 7   away_postgame_elo   735 non-null    float64\n",
      " 8   away_pregame_elo    738 non-null    float64\n",
      " 9   away_team           3668 non-null   object \n",
      " 10  completed           3668 non-null   bool   \n",
      " 11  conference_game     3668 non-null   bool   \n",
      " 12  excitement_index    1413 non-null   float64\n",
      " 13  highlights          0 non-null      float64\n",
      " 14  home_conference     3659 non-null   object \n",
      " 15  home_division       3659 non-null   object \n",
      " 16  home_id             3668 non-null   int64  \n",
      " 17  home_line_scores    3655 non-null   object \n",
      " 18  home_points         3367 non-null   float64\n",
      " 19  home_post_win_prob  1409 non-null   float64\n",
      " 20  home_postgame_elo   853 non-null    float64\n",
      " 21  home_pregame_elo    856 non-null    float64\n",
      " 22  home_team           3668 non-null   object \n",
      " 23  id                  3668 non-null   int64  \n",
      " 24  neutral_site        3668 non-null   bool   \n",
      " 25  notes               104 non-null    object \n",
      " 26  season              3668 non-null   int64  \n",
      " 27  season_type         3668 non-null   object \n",
      " 28  start_date          3668 non-null   object \n",
      " 29  start_time_tbd      3668 non-null   bool   \n",
      " 30  venue               3656 non-null   object \n",
      " 31  venue_id            3656 non-null   float64\n",
      " 32  week                3668 non-null   int64  \n",
      "dtypes: bool(4), float64(12), int64(5), object(12)\n",
      "memory usage: 845.5+ KB\n"
     ]
    }
   ],
   "source": [
    "import os\n",
    "import pandas as pd\n",
    "import matplotlib.pyplot as plt\n",
    "\n",
    "os.chdir('/Users/wesjurden/Documents/GitHub/Personal/college-football-project/data/clean')\n",
    "\n",
    "game_data = pd.read_csv('game_data_2022_clean.csv')\n",
    "game_data.info()"
   ]
  },
  {
   "cell_type": "markdown",
   "metadata": {},
   "source": [
    "## Ploting Home Points"
   ]
  },
  {
   "cell_type": "code",
   "execution_count": 8,
   "metadata": {},
   "outputs": [
    {
     "data": {
      "text/plain": [
       "(array([346., 602., 875., 695., 444., 250., 101.,  48.,   5.,   1.]),\n",
       " array([ 0. ,  9.8, 19.6, 29.4, 39.2, 49. , 58.8, 68.6, 78.4, 88.2, 98. ]),\n",
       " <BarContainer object of 10 artists>)"
      ]
     },
     "execution_count": 8,
     "metadata": {},
     "output_type": "execute_result"
    },
    {
     "data": {
      "image/png": "[encoded data removed]",
      "text/plain": [
       "<Figure size 640x480 with 1 Axes>"
      ]
     },
     "metadata": {},
     "output_type": "display_data"
    }
   ],
   "source": [
    "plt.title('Distribution of Home Points')\n",
    "plt.hist(game_data['home_points'])"
   ]
  },
  {
   "cell_type": "code",
   "execution_count": null,
   "metadata": {},
   "outputs": [],
   "source": []
  }
 ],
 "metadata": {
  "kernelspec": {
   "display_name": "Python 3.8.9 64-bit",
   "language": "python",
   "name": "python3"
  },
  "language_info": {
   "codemirror_mode": {
    "name": "ipython",
    "version": 3
   },
   "file_extension": ".py",
   "mimetype": "text/x-python",
   "name": "python",
   "nbconvert_exporter": "python",
   "pygments_lexer": "ipython3",
   "version": "3.8.9"
  },
  "orig_nbformat": 4,
  "vscode": {
   "interpreter": {
    "hash": "31f2aee4e71d21fbe5cf8b01ff0e069b9275f58929596ceb00d14d90e3e16cd6"
   }
  }
 },
 "nbformat": 4,
 "nbformat_minor": 2
}
